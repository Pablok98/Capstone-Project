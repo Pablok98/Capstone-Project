{
 "cells": [
  {
   "cell_type": "markdown",
   "metadata": {},
   "source": [
    "# Taller 3: Simulación\n",
    "\n",
    "Felipe Cornejo - facornejo@uc.cl"
   ]
  },
  {
   "cell_type": "markdown",
   "metadata": {},
   "source": [
    "# Simulación DES"
   ]
  },
  {
   "cell_type": "markdown",
   "metadata": {},
   "source": [
    "El enfoque de **simulación por eventos discretos (DES)** es una implementación que permite trabajar con suficiente versatilidad aquellos eventos que gatillan cambios de estado de algún escenario particular que deseamos observar. La idea es formar una estructura sólida que facilite la incorporación de indicadores y estadísticas que reflejan cada escenario. Existen otras formas de simular un escenario o proceso, por ejemplo, a través de simulación continua, o procesos de Markov."
   ]
  },
  {
   "cell_type": "markdown",
   "metadata": {},
   "source": [
    "## Estructura de una simulación DES\n",
    "\n",
    "El motor que implementa la simulación consta de la siguiente estructura:\n",
    "\n",
    "* **Cantidad de simulaciones:** Se realiza una cantidad suficiente de simulaciones para garantizar buenos resultados.\n",
    "* **Tiempo de simulación:** Tiempo implementado para la evolución acelerada del sistema.\n",
    "* **Evento:** Eventos implementados que producen cambios en las variables de estado del sistema. Ej: llegadas, abandonos.\n",
    "* **Entidad:** El sistema a simular se modela sobre la base de entidades o actores que representan en su agregado al sistema compuesto. Ej: pacientes, autos, taller, hospital.\n",
    "* **Actividad:** Las actividades corresponden a una secuencia de eventos pertenecientes a una entidad que cierran un ciclo funcional. \n",
    "* **Simulación en tiempo acelerado:** Conforme a la necesidad de estudiar una ventana de tiempo amplia, el avance del tiempo de simulación es mayor de un segundo por cada segundo de tiempo real."
   ]
  },
  {
   "cell_type": "markdown",
   "metadata": {},
   "source": [
    "## Date Time\n",
    "Una de las librerías más útiles que python posee para trabajar con formatos de tiempo y fechas es **datetime**. Esto nos permite manejar resultados y escalarlos a nuestros problemas presentando un **timestamp** acorde al fenómeno en estudio. \n",
    "\n",
    "Para trabajar sobre el performance de nuestro programa, podemos utilizar la librería **time**, la cuál cuenta con diversas funcionalidades que nos permiten contral los tiempos de ejecución del programa.\n",
    "\n",
    "Veamos un ejemplo práctico de como utilizar estas librerías. "
   ]
  },
  {
   "cell_type": "code",
   "execution_count": 1,
   "metadata": {},
   "outputs": [],
   "source": [
    "from datetime import date, datetime, timedelta"
   ]
  },
  {
   "cell_type": "markdown",
   "metadata": {},
   "source": [
    "La función `date.today()` nos permite obtener la fecha actual de nuestro sistema."
   ]
  },
  {
   "cell_type": "code",
   "execution_count": 2,
   "metadata": {},
   "outputs": [
    {
     "name": "stdout",
     "output_type": "stream",
     "text": [
      "El resultado de la fecha es:\n",
      "2021-08-25\n"
     ]
    }
   ],
   "source": [
    "today = date.today()\n",
    "print(\"El resultado de la fecha es:\")\n",
    "print(today)"
   ]
  },
  {
   "cell_type": "markdown",
   "metadata": {},
   "source": [
    "Sin embargo, podemos crear nuestras propias fechas para proyectar un horizonte temporal en particular, usando la función `datetime()`."
   ]
  },
  {
   "cell_type": "code",
   "execution_count": 3,
   "metadata": {},
   "outputs": [
    {
     "name": "stdout",
     "output_type": "stream",
     "text": [
      "El resultado de la fecha es:\n",
      "2019-01-01 00:00:00\n"
     ]
    }
   ],
   "source": [
    "my_date = datetime(2019, 1, 1)\n",
    "print(\"El resultado de la fecha es:\")\n",
    "print(my_date)"
   ]
  },
  {
   "cell_type": "markdown",
   "metadata": {},
   "source": [
    "Podríamos querer una fecha a partir de una hora en particular, para eso usamos replace."
   ]
  },
  {
   "cell_type": "code",
   "execution_count": 4,
   "metadata": {},
   "outputs": [
    {
     "name": "stdout",
     "output_type": "stream",
     "text": [
      "2019-01-01 09:00:00\n"
     ]
    }
   ],
   "source": [
    "particular_date = my_date.replace(hour=9)\n",
    "print(particular_date)"
   ]
  },
  {
   "cell_type": "markdown",
   "metadata": {},
   "source": [
    "Imaginemos que ya contamos con nuestra fecha de inicio para comenzar a programar nuestra simulación. ¿Qué tal si deseamos a partir de dicha fecha avanzar en el tiempo?. A través de la función `timedelta` podemos modificar la fecha actual para avanzar o retroceder en el tiempo. \n",
    "\n",
    "Podemos modificar por:\n",
    "* Días\n",
    "* Horas\n",
    "* Minutos\n",
    "* Segundos"
   ]
  },
  {
   "cell_type": "code",
   "execution_count": 5,
   "metadata": {},
   "outputs": [
    {
     "name": "stdout",
     "output_type": "stream",
     "text": [
      "Modificación por días\n",
      "Fecha inicial: 2019-01-01 00:00:00\n",
      "Fecha posterior a 5 días: 2019-01-06 00:00:00\n",
      "\n",
      "Modificación por horas\n",
      "Fecha inicial: 2019-01-01 00:00:00\n",
      "Fecha posterior a 6 horas: 2019-01-01 06:00:00\n",
      "\n",
      "Modificación por minutos\n",
      "Fecha inicial: 2019-01-01 00:00:00\n",
      "Fecha posterior a 15 minutos: 2019-01-01 00:15:00\n",
      "\n",
      "Modificación por minutos\n",
      "Fecha inicial: 2019-01-01 00:00:00\n",
      "Fecha posterior a 15 minutos: 2019-01-01 00:01:10\n"
     ]
    }
   ],
   "source": [
    "new_date = my_date + timedelta(days=5)\n",
    "print(\"Modificación por días\")\n",
    "print(\"Fecha inicial: {}\".format(my_date))\n",
    "print(\"Fecha posterior a 5 días: {}\".format(new_date))\n",
    "print()\n",
    "new_date = my_date + timedelta(hours=6)\n",
    "print(\"Modificación por horas\")\n",
    "print(\"Fecha inicial: {}\".format(my_date))\n",
    "print(\"Fecha posterior a 6 horas: {}\".format(new_date))\n",
    "print()\n",
    "new_date = my_date + timedelta(minutes=15)\n",
    "print(\"Modificación por minutos\")\n",
    "print(\"Fecha inicial: {}\".format(my_date))\n",
    "print(\"Fecha posterior a 15 minutos: {}\".format(new_date))\n",
    "print()\n",
    "new_date = my_date + timedelta(seconds=70)\n",
    "print(\"Modificación por minutos\")\n",
    "print(\"Fecha inicial: {}\".format(my_date))\n",
    "print(\"Fecha posterior a 15 minutos: {}\".format(new_date))"
   ]
  },
  {
   "cell_type": "markdown",
   "metadata": {},
   "source": [
    "### Tips and tricks\n",
    "Podemos utilizar alguna distribución y generar fechas que sigan dicha representación.\n",
    "Por ejemplo, deseamos generar una lista con fechas que tengan una varaición uniforme entre 5 a 8 días de diferencia entre una y otra.\n"
   ]
  },
  {
   "cell_type": "code",
   "execution_count": 6,
   "metadata": {},
   "outputs": [],
   "source": [
    "from random import uniform, random, seed, randint, gauss\n",
    "import numpy as np"
   ]
  },
  {
   "cell_type": "code",
   "execution_count": 7,
   "metadata": {},
   "outputs": [
    {
     "name": "stdout",
     "output_type": "stream",
     "text": [
      "2019-01-01 00:00:00\n",
      "2019-01-07 00:00:00\n",
      "2019-01-13 00:00:00\n",
      "2019-01-19 00:00:00\n",
      "2019-01-24 00:00:00\n",
      "2019-01-31 00:00:00\n",
      "2019-02-07 00:00:00\n",
      "2019-02-12 00:00:00\n",
      "2019-02-17 00:00:00\n",
      "2019-02-23 00:00:00\n",
      "2019-03-02 00:00:00\n",
      "2019-03-08 00:00:00\n",
      "2019-03-15 00:00:00\n",
      "2019-03-22 00:00:00\n",
      "2019-03-29 00:00:00\n",
      "2019-04-03 00:00:00\n",
      "2019-04-09 00:00:00\n",
      "2019-04-14 00:00:00\n",
      "2019-04-21 00:00:00\n",
      "2019-04-26 00:00:00\n"
     ]
    }
   ],
   "source": [
    "fechas = []\n",
    "inicial = datetime(2019, 1, 1)\n",
    "for _ in range(20):\n",
    "    fechas.append(inicial)\n",
    "    inicial+=timedelta(days = int(uniform(5,8))) # ver el int()\n",
    "    \n",
    "for f in fechas:\n",
    "    print(f)\n",
    "    "
   ]
  },
  {
   "cell_type": "markdown",
   "metadata": {},
   "source": [
    "Por otra parte, si tenemos una lista de fechas aleatorias y deseamos mantener esta lista ordenada por fecha y en orden ascendente, podemos realizar lo siguiente:"
   ]
  },
  {
   "cell_type": "code",
   "execution_count": 8,
   "metadata": {},
   "outputs": [
    {
     "name": "stdout",
     "output_type": "stream",
     "text": [
      "Fechas aleatorias\n",
      "2019-05-04 00:00:00\n",
      "2019-05-08 00:00:00\n",
      "2019-05-08 00:00:00\n",
      "2019-05-08 00:00:00\n",
      "2019-05-05 00:00:00\n",
      "2019-05-09 00:00:00\n",
      "2019-05-04 00:00:00\n",
      "2019-05-04 00:00:00\n",
      "2019-05-08 00:00:00\n",
      "2019-05-08 00:00:00\n",
      "2019-05-05 00:00:00\n",
      "2019-05-04 00:00:00\n",
      "2019-05-05 00:00:00\n",
      "2019-05-05 00:00:00\n",
      "2019-05-09 00:00:00\n",
      "2019-05-08 00:00:00\n",
      "2019-05-08 00:00:00\n",
      "2019-05-08 00:00:00\n",
      "2019-05-05 00:00:00\n",
      "2019-05-07 00:00:00\n",
      "\n",
      "Fechas ordenadas\n",
      "2019-05-04 00:00:00\n",
      "2019-05-04 00:00:00\n",
      "2019-05-04 00:00:00\n",
      "2019-05-04 00:00:00\n",
      "2019-05-05 00:00:00\n",
      "2019-05-05 00:00:00\n",
      "2019-05-05 00:00:00\n",
      "2019-05-05 00:00:00\n",
      "2019-05-05 00:00:00\n",
      "2019-05-07 00:00:00\n",
      "2019-05-08 00:00:00\n",
      "2019-05-08 00:00:00\n",
      "2019-05-08 00:00:00\n",
      "2019-05-08 00:00:00\n",
      "2019-05-08 00:00:00\n",
      "2019-05-08 00:00:00\n",
      "2019-05-08 00:00:00\n",
      "2019-05-08 00:00:00\n",
      "2019-05-09 00:00:00\n",
      "2019-05-09 00:00:00\n"
     ]
    }
   ],
   "source": [
    "fechas_aleatorias = [(inicial + timedelta(days = int(uniform(2,8)))) for _ in range(20)]\n",
    "print(\"Fechas aleatorias\")\n",
    "for f in fechas_aleatorias:\n",
    "    print(f)\n",
    "fechas_ordenadas = fechas_aleatorias.sort(key=lambda z: datetime.strftime(z, \"%Y-%m-%d-%H-%M\"))\n",
    "print(\"\\nFechas ordenadas\")\n",
    "for f in fechas_aleatorias:\n",
    "    print(f)"
   ]
  },
  {
   "cell_type": "markdown",
   "metadata": {},
   "source": [
    "## Time\n",
    "Si deseamos manejar el performance y tiempo de ejecución del código, podemos utilizar las siguientes funciones:"
   ]
  },
  {
   "cell_type": "code",
   "execution_count": 9,
   "metadata": {},
   "outputs": [],
   "source": [
    "import time as tm"
   ]
  },
  {
   "cell_type": "code",
   "execution_count": 10,
   "metadata": {},
   "outputs": [
    {
     "name": "stdout",
     "output_type": "stream",
     "text": [
      "1.005014181137085 segundos\n"
     ]
    }
   ],
   "source": [
    "start = tm.time() #Guardamos en una variable el tiempo actual\n",
    "#tm.time() da el tiempo en segundos desde la “Epoch” (una fecha en específico definida en la librería).\n",
    "\n",
    "\"\"\"\n",
    "    |\n",
    "    Secuencia de código que haría algo\n",
    "    |\n",
    "\"\"\"\n",
    "tm.sleep(1)#Le decimos al programa que \"duerma\" (haga una pausa) por 1 segundo\n",
    "end = tm.time() #Guardamos en una variable el tiempo actual\n",
    "print(\"{} segundos\".format(end-start)) #Imprimimos el tiempo que ha transcurrido entre que guardamos el valor del tiempo actual en la variable start y en la variable end\n"
   ]
  },
  {
   "cell_type": "markdown",
   "metadata": {},
   "source": [
    "Para validar nuestros resultados, si trabajamos con distribuciones de probabilidad es conveniente fijar una **semilla**. Una semilla nos genera números aleatorios a partir de una secuencia. `Seed()` es la función que nos permite crearla."
   ]
  },
  {
   "cell_type": "code",
   "execution_count": 11,
   "metadata": {},
   "outputs": [
    {
     "name": "stdout",
     "output_type": "stream",
     "text": [
      "17\n",
      "1\n",
      "[95.62962799255568, 89.05729133858289, 140.94950691676226]\n",
      "[4.359057042566775, 4.290797487010507, 8.90481459373185]\n"
     ]
    }
   ],
   "source": [
    "# seed(20)#Fijamos la \"semilla\" del generad de número aleatorios\n",
    "# Esto hace que, cuando corran el código más de una vez, las funciones que entregan números aleatorios den siempre el mismo valor\n",
    "print(randint(10,30))#Imprimimos un número aleatorio entre 10 y 30\n",
    "\n",
    "l = [1, 2, 3] #Definimos una lista de eventos o escenarios\n",
    "p = [0.9,0.1,0.0]#Definimos una lista de probabilidades para asignar a cada evento (deben sumar 1.0)\n",
    "print(np.random.choice(l,p=p))#Con la función choice se selecciona un elemento de l según las probabilidades p\n",
    "\n",
    "x = [gauss(100,20) for i in range(3)]#Generamos una lista de realizaciones de una distribución normal de media 100 y desviación estándar 20\n",
    "print(x)\n",
    "x = [uniform(0,10) for i in range(3)]#Generamos una lista de realizaciones de una distribución uniforme entre 0 y 10\n",
    "print(x)"
   ]
  },
  {
   "cell_type": "markdown",
   "metadata": {},
   "source": [
    "## Simulación basada en eventos.\n",
    "\n",
    "Ya contamos con todas las herramientas para comenzar a simular! Veamos el siguiente problema de ejemplo:\n",
    "\n",
    "### Problema \n",
    "\n",
    "Simule las operaciones de un taller de autos que cuenta con una estación para reparar los vehiculos. Se sabe que el tiempo promedio entre llegadas es de 10 minutos segun un proceso Poisson. Debido a la capacidad del taller, los autos pueden esperar en una cola para ser atendidos, sin embargo por temas estructurales sólo puede existir un máximo de 10 autos en espera, y los siguientes autos que lleguen abandonaran el taller en busca de uno que los atienda. el tiempo de reparación del taller resulta ser uniforme entre 10 a 15 minutos una vez ingresa el vehiculo a la estación.\n",
    "Indique la cantidad de autos que ingresan al taller, los autos que abandonan el taller luego de ser reparados y los autos que abandonan el taller por que la capacidad de la cola se ve superada. \n",
    "\n",
    "Simule las operaciones de un día para una joranada laboral de 8 horas considerando que se empieza a las 9:00 am\n",
    "\n",
    "Librerías recomendadas:\n",
    "* **datetime**\n",
    "* **random**\n",
    "* **collections**\n",
    "\n",
    "¿Qué son las properties?\n",
    "\n",
    "https://www.quora.com/Python-newbie-what-are-attributes-and-properties-in-a-class"
   ]
  },
  {
   "cell_type": "code",
   "execution_count": 29,
   "metadata": {},
   "outputs": [],
   "source": [
    "from collections import deque\n",
    "from random import expovariate, randint, uniform, seed\n",
    "from datetime import datetime, timedelta\n",
    "import time\n",
    "seed(1)"
   ]
  },
  {
   "cell_type": "markdown",
   "metadata": {},
   "source": [
    "Crearemos la clase \"Auto\" y la utilizaremos para generar nuevas instancias de vehículos que ingresan a un taller. La ventaja de utilizar OOP es que podemos crear funciones asociadas a la instancia que nos permitan manejar el tiempo de la entidad que forma parte del sistema."
   ]
  },
  {
   "cell_type": "code",
   "execution_count": 30,
   "metadata": {},
   "outputs": [],
   "source": [
    "class Auto:\n",
    "    _id = 0\n",
    "    def __init__(self, tiempo_instancia):\n",
    "        Auto._id += 1\n",
    "        self.id = Auto._id\n",
    "        self.tiempo_llegada = tiempo_instancia\n",
    "        self.estacion = None\n",
    "        self.tiempo_abandono_taller = None\n",
    "\n",
    "    \n",
    "    def generar_tiempo_abandono_taller(self, tiempo_actual):\n",
    "        self.tiempo_abandono_taller = tiempo_actual + timedelta(minutes=int(uniform(10,15)))\n",
    "\n",
    "    def generar_tiempo_total_sistema(self, tiempo_actual):\n",
    "        self.tiempo_total_sistema = tiempo_actual - self.tiempo_llegada\n",
    "        print(self.tiempo_total_sistema)\n",
    "\n",
    "    def __str__(self):\n",
    "        return \"-> {}\".format(self.id)"
   ]
  },
  {
   "cell_type": "code",
   "execution_count": 31,
   "metadata": {},
   "outputs": [],
   "source": [
    "# Clase principal que contiene el motor de la simulación\n",
    "class Taller:\n",
    "    def __init__(self, tiempo_simulacion, tasa_llegada, capacidad):\n",
    "        # usamos datetime para manejar temporalidad\n",
    "        date = datetime(2019, 8, 1)\n",
    "        newdate = date.replace(hour=9)\n",
    "\n",
    "        # seteamos variables de tiempo\n",
    "        self.tiempo_actual = newdate\n",
    "        self.tiempo_maximo = newdate + timedelta(hours = tiempo_simulacion)\n",
    "\n",
    "        # seteamos inputs de distribuciones y estructuras de la simulación\n",
    "        self.tasa_llegada = tasa_llegada\n",
    "        self.estacion = {\"E1\" : None}\n",
    "        self.proximo_auto_llega = self.tiempo_actual + timedelta(minutes=int(expovariate(1/tasa_llegada)))\n",
    "        self.capacidad_cola = capacidad\n",
    "        self.cola = deque()\n",
    "\n",
    "        # las variables para el cálculo de estadísticas se dejan en el constructor\n",
    "        self.cantidad_autos = 0 # son los autos que llegan\n",
    "        self.cantidad_autos_perdidos = 0\n",
    "        self.abandonos = 0\n",
    "\n",
    "        # manejamos una lista con todos los tiempos de abandono que se generan\n",
    "        self.tiempos_abandono_taller = [[self.tiempo_actual.replace(year=3000), None]]\n",
    "\n",
    "\n",
    "    # usamos properties para trabajar con mayor comodidad el atributo del proximo auto que termina de ser atendido\n",
    "    @property\n",
    "    def proximo_auto_termina(self):\n",
    "        # Esta la próxima persona que terminará de ser atendida con su tiempo asociado\n",
    "        x, y = self.tiempos_abandono_taller[0]\n",
    "        return x, y\n",
    "\n",
    "    @property\n",
    "    def next_event(self):\n",
    "        tiempos = [self.proximo_auto_llega,\n",
    "                   self.proximo_auto_termina[0]]\n",
    "        tiempo_prox_evento = min(tiempos)\n",
    "\n",
    "        if tiempo_prox_evento >= self.tiempo_maximo:\n",
    "            return \"fin\"\n",
    "        eventos = [\"llegada_auto\", \"abandono_taller\"]\n",
    "        return eventos[tiempos.index(tiempo_prox_evento)]\n",
    "\n",
    "    # funcion que define la llegada de autos al taller\n",
    "    def llegar_auto(self):\n",
    "        time.sleep(0.4)\n",
    "        self.tiempo_actual = self.proximo_auto_llega\n",
    "        self.proximo_auto_llega = self.tiempo_actual + timedelta(minutes=int(expovariate(1/self.tasa_llegada)))\n",
    "        auto = Auto(self.tiempo_actual)\n",
    "        print(\"\\r\\r\\033[91m[LLEGADA]\\033[0m ha llegado un auto id: {} {}\".format(auto._id,self.tiempo_actual))\n",
    "\n",
    "        if len(self.cola) == self.capacidad_cola:\n",
    "            print(\"[COLA LLENA!!!] Se ha llenado la cola de espera para el taller\")\n",
    "            self.cantidad_autos += 1\n",
    "            self.cantidad_autos_perdidos += 1\n",
    "        elif self.estacion[\"E1\"] == None:\n",
    "            #self.tiempo_sistema_vacio += (self.tiempo_actual - self.ultimo_tiempo_actual_vacio)\n",
    "            self.estacion[\"E1\"] = auto\n",
    "            self.estacion[\"E1\"].estacion = \"E1\"\n",
    "            self.estacion[\"E1\"].generar_tiempo_abandono_taller(self.tiempo_actual)\n",
    "            self.tiempos_abandono_taller.append((auto.tiempo_abandono_taller, auto))\n",
    "            self.tiempos_abandono_taller.sort(key=lambda z: datetime.strftime(z[0], \"%Y-%m-%d-%H-%M\"))\n",
    "            print(\"\\r\\r\\033[92m[INGRESO ESTACION]\\033[0m ha ingresado un auto a E1 id: {} {}\".format(\n",
    "                self.estacion[\"E1\"]._id, self.tiempo_actual))\n",
    "            self.cantidad_autos += 1\n",
    "        else:\n",
    "            self.cola.append(auto)\n",
    "        #print(self.estacion[\"E1\"])\n",
    "\n",
    "    # funcion que defin la salida de autos del taller\n",
    "    def abandono_taller(self):\n",
    "        time.sleep(0.4)\n",
    "        #print(\"quien va a abandonar \"+ str(self.proximo_auto_termina[1]))\n",
    "        self.tiempo_actual, auto_sale = self.proximo_auto_termina\n",
    "        #print(\"quien va a abandonar \" + str(auto_sale))\n",
    "        if len(self.cola) > 0: # A tiene prioridad sobre B\n",
    "            # Si hay, la proxima persona pasa\n",
    "            print('[RETIRA] Se ha desocupado la Estacion, abandona el auto id {} {}'.\n",
    "                  format(auto_sale, self.tiempo_actual))\n",
    "            prox_auto = self.cola.popleft()\n",
    "            #print(prox_auto)\n",
    "            prox_auto.estacion = auto_sale.estacion\n",
    "            self.auto_pasa_a_ser_atendido(prox_auto, auto_sale.estacion)\n",
    "        else:\n",
    "            print(\"[RETIRA] La estacion termina de atender al auto id: {}, esta desocupado pero \"\n",
    "                  \"no hay autos en cola {}\".format(auto_sale._id, self.tiempo_actual))\n",
    "            self.estacion[auto_sale.estacion] = None\n",
    "\n",
    "        self.tiempos_abandono_taller.pop(0)\n",
    "        self.abandonos += 1\n",
    "\n",
    "\n",
    "    # funcion que apoya el ingreso de autos \n",
    "    def auto_pasa_a_ser_atendido(self, auto, e):\n",
    "        time.sleep(0.4)\n",
    "        self.estacion[e] = auto\n",
    "        self.estacion[e].generar_tiempo_abandono_taller(self.tiempo_actual)\n",
    "        self.tiempos_abandono_taller.append((self.estacion[e].tiempo_abandono_taller, auto))\n",
    "        self.tiempos_abandono_taller.sort(key=lambda z: datetime.strftime(z[0], \"%Y-%m-%d-%H-%M\"))\n",
    "        print(\"\\r\\r\\033[92m[INGRESO ESTACION]\\033[0m ha ingresado un auto a E1 id: {0} {1}\".format(auto,self.tiempo_actual))\n",
    "        self.cantidad_autos += 1\n",
    "\n",
    "\n",
    "    # motor de la simulacion \n",
    "    def run(self):\n",
    "        while self.tiempo_actual < self.tiempo_maximo:\n",
    "            evento = self.next_event\n",
    "            # print(\"en el modulo hay {}\".format(self.modulo_atencion))\n",
    "            if evento == \"fin\":\n",
    "                self.tiempo_actual = self.tiempo_maximo\n",
    "                break\n",
    "            elif evento == \"llegada_auto\":\n",
    "                self.llegar_auto()\n",
    "            elif evento == \"abandono_taller\":\n",
    "                self.abandono_taller()\n",
    "                \n",
    "\n",
    "    def show(self):\n",
    "        print(\"La cantidad de autos que llegaron al taller {}\".format(self.cantidad_autos))\n",
    "        print(\"La cantidad de autos que se aburrieron de esperar {}\".format(self.cantidad_autos_perdidos))\n",
    "        print(\"La cantidad de autos que abandondan el taller {}\".format(self.abandonos))\n",
    "        "
   ]
  },
  {
   "cell_type": "code",
   "execution_count": 32,
   "metadata": {},
   "outputs": [
    {
     "name": "stdout",
     "output_type": "stream",
     "text": [
      "\u001b[91m[LLEGADA]\u001b[0m ha llegado un auto id: 1 2019-08-01 09:01:00\n",
      "\u001b[92m[INGRESO ESTACION]\u001b[0m ha ingresado un auto a E1 id: 1 2019-08-01 09:01:00\n",
      "[RETIRA] La estacion termina de atender al auto id: 1, esta desocupado pero no hay autos en cola 2019-08-01 09:14:00\n",
      "\u001b[91m[LLEGADA]\u001b[0m ha llegado un auto id: 2 2019-08-01 09:19:00\n",
      "\u001b[92m[INGRESO ESTACION]\u001b[0m ha ingresado un auto a E1 id: 2 2019-08-01 09:19:00\n",
      "\u001b[91m[LLEGADA]\u001b[0m ha llegado un auto id: 3 2019-08-01 09:21:00\n",
      "\u001b[91m[LLEGADA]\u001b[0m ha llegado un auto id: 4 2019-08-01 09:26:00\n",
      "[RETIRA] Se ha desocupado la Estacion, abandona el auto id -> 2 2019-08-01 09:31:00\n",
      "\u001b[92m[INGRESO ESTACION]\u001b[0m ha ingresado un auto a E1 id: -> 3 2019-08-01 09:31:00\n",
      "\u001b[91m[LLEGADA]\u001b[0m ha llegado un auto id: 5 2019-08-01 09:36:00\n",
      "\u001b[91m[LLEGADA]\u001b[0m ha llegado un auto id: 6 2019-08-01 09:36:00\n",
      "\u001b[91m[LLEGADA]\u001b[0m ha llegado un auto id: 7 2019-08-01 09:36:00\n",
      "[RETIRA] Se ha desocupado la Estacion, abandona el auto id -> 3 2019-08-01 09:44:00\n",
      "\u001b[92m[INGRESO ESTACION]\u001b[0m ha ingresado un auto a E1 id: -> 4 2019-08-01 09:44:00\n",
      "\u001b[91m[LLEGADA]\u001b[0m ha llegado un auto id: 8 2019-08-01 09:54:00\n",
      "[RETIRA] Se ha desocupado la Estacion, abandona el auto id -> 4 2019-08-01 09:56:00\n",
      "\u001b[92m[INGRESO ESTACION]\u001b[0m ha ingresado un auto a E1 id: -> 5 2019-08-01 09:56:00\n",
      "[RETIRA] Se ha desocupado la Estacion, abandona el auto id -> 5 2019-08-01 10:06:00\n",
      "\u001b[92m[INGRESO ESTACION]\u001b[0m ha ingresado un auto a E1 id: -> 6 2019-08-01 10:06:00\n",
      "\u001b[91m[LLEGADA]\u001b[0m ha llegado un auto id: 9 2019-08-01 10:08:00\n",
      "[RETIRA] Se ha desocupado la Estacion, abandona el auto id -> 6 2019-08-01 10:18:00\n",
      "\u001b[92m[INGRESO ESTACION]\u001b[0m ha ingresado un auto a E1 id: -> 7 2019-08-01 10:18:00\n",
      "\u001b[91m[LLEGADA]\u001b[0m ha llegado un auto id: 10 2019-08-01 10:20:00\n",
      "[RETIRA] Se ha desocupado la Estacion, abandona el auto id -> 7 2019-08-01 10:29:00\n",
      "\u001b[92m[INGRESO ESTACION]\u001b[0m ha ingresado un auto a E1 id: -> 8 2019-08-01 10:29:00\n",
      "[RETIRA] Se ha desocupado la Estacion, abandona el auto id -> 8 2019-08-01 10:43:00\n",
      "\u001b[92m[INGRESO ESTACION]\u001b[0m ha ingresado un auto a E1 id: -> 9 2019-08-01 10:43:00\n",
      "\u001b[91m[LLEGADA]\u001b[0m ha llegado un auto id: 11 2019-08-01 10:49:00\n",
      "\u001b[91m[LLEGADA]\u001b[0m ha llegado un auto id: 12 2019-08-01 10:49:00\n",
      "[RETIRA] Se ha desocupado la Estacion, abandona el auto id -> 9 2019-08-01 10:53:00\n",
      "\u001b[92m[INGRESO ESTACION]\u001b[0m ha ingresado un auto a E1 id: -> 10 2019-08-01 10:53:00\n",
      "\u001b[91m[LLEGADA]\u001b[0m ha llegado un auto id: 13 2019-08-01 10:56:00\n",
      "\u001b[91m[LLEGADA]\u001b[0m ha llegado un auto id: 14 2019-08-01 11:00:00\n",
      "\u001b[91m[LLEGADA]\u001b[0m ha llegado un auto id: 15 2019-08-01 11:02:00\n",
      "\u001b[91m[LLEGADA]\u001b[0m ha llegado un auto id: 16 2019-08-01 11:07:00\n",
      "\u001b[91m[LLEGADA]\u001b[0m ha llegado un auto id: 17 2019-08-01 11:07:00\n",
      "[RETIRA] Se ha desocupado la Estacion, abandona el auto id -> 10 2019-08-01 11:07:00\n",
      "\u001b[92m[INGRESO ESTACION]\u001b[0m ha ingresado un auto a E1 id: -> 11 2019-08-01 11:07:00\n",
      "\u001b[91m[LLEGADA]\u001b[0m ha llegado un auto id: 18 2019-08-01 11:09:00\n",
      "\u001b[91m[LLEGADA]\u001b[0m ha llegado un auto id: 19 2019-08-01 11:15:00\n",
      "\u001b[91m[LLEGADA]\u001b[0m ha llegado un auto id: 20 2019-08-01 11:17:00\n",
      "\u001b[91m[LLEGADA]\u001b[0m ha llegado un auto id: 21 2019-08-01 11:19:00\n",
      "[RETIRA] Se ha desocupado la Estacion, abandona el auto id -> 11 2019-08-01 11:19:00\n",
      "\u001b[92m[INGRESO ESTACION]\u001b[0m ha ingresado un auto a E1 id: -> 12 2019-08-01 11:19:00\n",
      "\u001b[91m[LLEGADA]\u001b[0m ha llegado un auto id: 22 2019-08-01 11:21:00\n",
      "\u001b[91m[LLEGADA]\u001b[0m ha llegado un auto id: 23 2019-08-01 11:24:00\n",
      "[COLA LLENA!!!] Se ha llenado la cola de espera para el taller\n",
      "\u001b[91m[LLEGADA]\u001b[0m ha llegado un auto id: 24 2019-08-01 11:24:00\n",
      "[COLA LLENA!!!] Se ha llenado la cola de espera para el taller\n",
      "[RETIRA] Se ha desocupado la Estacion, abandona el auto id -> 12 2019-08-01 11:31:00\n",
      "\u001b[92m[INGRESO ESTACION]\u001b[0m ha ingresado un auto a E1 id: -> 13 2019-08-01 11:31:00\n",
      "\u001b[91m[LLEGADA]\u001b[0m ha llegado un auto id: 25 2019-08-01 11:42:00\n",
      "[RETIRA] Se ha desocupado la Estacion, abandona el auto id -> 13 2019-08-01 11:43:00\n",
      "\u001b[92m[INGRESO ESTACION]\u001b[0m ha ingresado un auto a E1 id: -> 14 2019-08-01 11:43:00\n",
      "\u001b[91m[LLEGADA]\u001b[0m ha llegado un auto id: 26 2019-08-01 11:52:00\n",
      "[RETIRA] Se ha desocupado la Estacion, abandona el auto id -> 14 2019-08-01 11:53:00\n",
      "\u001b[92m[INGRESO ESTACION]\u001b[0m ha ingresado un auto a E1 id: -> 15 2019-08-01 11:53:00\n",
      "[RETIRA] Se ha desocupado la Estacion, abandona el auto id -> 15 2019-08-01 12:07:00\n",
      "\u001b[92m[INGRESO ESTACION]\u001b[0m ha ingresado un auto a E1 id: -> 16 2019-08-01 12:07:00\n",
      "[RETIRA] Se ha desocupado la Estacion, abandona el auto id -> 16 2019-08-01 12:17:00\n",
      "\u001b[92m[INGRESO ESTACION]\u001b[0m ha ingresado un auto a E1 id: -> 17 2019-08-01 12:17:00\n",
      "[RETIRA] Se ha desocupado la Estacion, abandona el auto id -> 17 2019-08-01 12:28:00\n",
      "\u001b[92m[INGRESO ESTACION]\u001b[0m ha ingresado un auto a E1 id: -> 18 2019-08-01 12:28:00\n",
      "\u001b[91m[LLEGADA]\u001b[0m ha llegado un auto id: 27 2019-08-01 12:40:00\n",
      "[RETIRA] Se ha desocupado la Estacion, abandona el auto id -> 18 2019-08-01 12:41:00\n",
      "\u001b[92m[INGRESO ESTACION]\u001b[0m ha ingresado un auto a E1 id: -> 19 2019-08-01 12:41:00\n",
      "\u001b[91m[LLEGADA]\u001b[0m ha llegado un auto id: 28 2019-08-01 12:52:00\n",
      "[RETIRA] Se ha desocupado la Estacion, abandona el auto id -> 19 2019-08-01 12:55:00\n",
      "\u001b[92m[INGRESO ESTACION]\u001b[0m ha ingresado un auto a E1 id: -> 20 2019-08-01 12:55:00\n",
      "\u001b[91m[LLEGADA]\u001b[0m ha llegado un auto id: 29 2019-08-01 12:57:00\n",
      "\u001b[91m[LLEGADA]\u001b[0m ha llegado un auto id: 30 2019-08-01 13:08:00\n",
      "[RETIRA] Se ha desocupado la Estacion, abandona el auto id -> 20 2019-08-01 13:09:00\n",
      "\u001b[92m[INGRESO ESTACION]\u001b[0m ha ingresado un auto a E1 id: -> 21 2019-08-01 13:09:00\n",
      "\u001b[91m[LLEGADA]\u001b[0m ha llegado un auto id: 31 2019-08-01 13:11:00\n",
      "[RETIRA] Se ha desocupado la Estacion, abandona el auto id -> 21 2019-08-01 13:21:00\n",
      "\u001b[92m[INGRESO ESTACION]\u001b[0m ha ingresado un auto a E1 id: -> 22 2019-08-01 13:21:00\n",
      "\u001b[91m[LLEGADA]\u001b[0m ha llegado un auto id: 32 2019-08-01 13:32:00\n",
      "[RETIRA] Se ha desocupado la Estacion, abandona el auto id -> 22 2019-08-01 13:35:00\n",
      "\u001b[92m[INGRESO ESTACION]\u001b[0m ha ingresado un auto a E1 id: -> 25 2019-08-01 13:35:00\n",
      "\u001b[91m[LLEGADA]\u001b[0m ha llegado un auto id: 33 2019-08-01 13:39:00\n",
      "\u001b[91m[LLEGADA]\u001b[0m ha llegado un auto id: 34 2019-08-01 13:39:00\n",
      "\u001b[91m[LLEGADA]\u001b[0m ha llegado un auto id: 35 2019-08-01 13:41:00\n",
      "[RETIRA] Se ha desocupado la Estacion, abandona el auto id -> 25 2019-08-01 13:47:00\n",
      "\u001b[92m[INGRESO ESTACION]\u001b[0m ha ingresado un auto a E1 id: -> 26 2019-08-01 13:47:00\n",
      "\u001b[91m[LLEGADA]\u001b[0m ha llegado un auto id: 36 2019-08-01 13:56:00\n",
      "\u001b[91m[LLEGADA]\u001b[0m ha llegado un auto id: 37 2019-08-01 13:57:00\n",
      "[COLA LLENA!!!] Se ha llenado la cola de espera para el taller\n",
      "[RETIRA] Se ha desocupado la Estacion, abandona el auto id -> 26 2019-08-01 13:59:00\n",
      "\u001b[92m[INGRESO ESTACION]\u001b[0m ha ingresado un auto a E1 id: -> 27 2019-08-01 13:59:00\n",
      "\u001b[91m[LLEGADA]\u001b[0m ha llegado un auto id: 38 2019-08-01 14:04:00\n",
      "[RETIRA] Se ha desocupado la Estacion, abandona el auto id -> 27 2019-08-01 14:12:00\n",
      "\u001b[92m[INGRESO ESTACION]\u001b[0m ha ingresado un auto a E1 id: -> 28 2019-08-01 14:12:00\n",
      "\u001b[91m[LLEGADA]\u001b[0m ha llegado un auto id: 39 2019-08-01 14:15:00\n",
      "\u001b[91m[LLEGADA]\u001b[0m ha llegado un auto id: 40 2019-08-01 14:20:00\n",
      "[COLA LLENA!!!] Se ha llenado la cola de espera para el taller\n",
      "[RETIRA] Se ha desocupado la Estacion, abandona el auto id -> 28 2019-08-01 14:23:00\n",
      "\u001b[92m[INGRESO ESTACION]\u001b[0m ha ingresado un auto a E1 id: -> 29 2019-08-01 14:23:00\n",
      "\u001b[91m[LLEGADA]\u001b[0m ha llegado un auto id: 41 2019-08-01 14:27:00\n",
      "\u001b[91m[LLEGADA]\u001b[0m ha llegado un auto id: 42 2019-08-01 14:34:00\n",
      "[COLA LLENA!!!] Se ha llenado la cola de espera para el taller\n",
      "[RETIRA] Se ha desocupado la Estacion, abandona el auto id -> 29 2019-08-01 14:36:00\n",
      "\u001b[92m[INGRESO ESTACION]\u001b[0m ha ingresado un auto a E1 id: -> 30 2019-08-01 14:36:00\n",
      "\u001b[91m[LLEGADA]\u001b[0m ha llegado un auto id: 43 2019-08-01 14:38:00\n",
      "\u001b[91m[LLEGADA]\u001b[0m ha llegado un auto id: 44 2019-08-01 14:38:00\n",
      "[COLA LLENA!!!] Se ha llenado la cola de espera para el taller\n",
      "\u001b[91m[LLEGADA]\u001b[0m ha llegado un auto id: 45 2019-08-01 14:38:00\n",
      "[COLA LLENA!!!] Se ha llenado la cola de espera para el taller\n",
      "[RETIRA] Se ha desocupado la Estacion, abandona el auto id -> 30 2019-08-01 14:48:00\n",
      "\u001b[92m[INGRESO ESTACION]\u001b[0m ha ingresado un auto a E1 id: -> 31 2019-08-01 14:48:00\n",
      "\u001b[91m[LLEGADA]\u001b[0m ha llegado un auto id: 46 2019-08-01 14:50:00\n",
      "\u001b[91m[LLEGADA]\u001b[0m ha llegado un auto id: 47 2019-08-01 14:58:00\n",
      "[COLA LLENA!!!] Se ha llenado la cola de espera para el taller\n",
      "[RETIRA] Se ha desocupado la Estacion, abandona el auto id -> 31 2019-08-01 15:02:00\n",
      "\u001b[92m[INGRESO ESTACION]\u001b[0m ha ingresado un auto a E1 id: -> 32 2019-08-01 15:02:00\n",
      "\u001b[91m[LLEGADA]\u001b[0m ha llegado un auto id: 48 2019-08-01 15:03:00\n",
      "\u001b[91m[LLEGADA]\u001b[0m ha llegado un auto id: 49 2019-08-01 15:09:00\n",
      "[COLA LLENA!!!] Se ha llenado la cola de espera para el taller\n",
      "[RETIRA] Se ha desocupado la Estacion, abandona el auto id -> 32 2019-08-01 15:12:00\n",
      "\u001b[92m[INGRESO ESTACION]\u001b[0m ha ingresado un auto a E1 id: -> 33 2019-08-01 15:12:00\n",
      "[RETIRA] Se ha desocupado la Estacion, abandona el auto id -> 33 2019-08-01 15:25:00\n",
      "\u001b[92m[INGRESO ESTACION]\u001b[0m ha ingresado un auto a E1 id: -> 34 2019-08-01 15:25:00\n",
      "[RETIRA] Se ha desocupado la Estacion, abandona el auto id -> 34 2019-08-01 15:37:00\n",
      "\u001b[92m[INGRESO ESTACION]\u001b[0m ha ingresado un auto a E1 id: -> 35 2019-08-01 15:37:00\n",
      "\u001b[91m[LLEGADA]\u001b[0m ha llegado un auto id: 50 2019-08-01 15:49:00\n",
      "\u001b[91m[LLEGADA]\u001b[0m ha llegado un auto id: 51 2019-08-01 15:51:00\n",
      "[RETIRA] Se ha desocupado la Estacion, abandona el auto id -> 35 2019-08-01 15:51:00\n",
      "\u001b[92m[INGRESO ESTACION]\u001b[0m ha ingresado un auto a E1 id: -> 36 2019-08-01 15:51:00\n",
      "\u001b[91m[LLEGADA]\u001b[0m ha llegado un auto id: 52 2019-08-01 15:58:00\n",
      "[RETIRA] Se ha desocupado la Estacion, abandona el auto id -> 36 2019-08-01 16:05:00\n",
      "\u001b[92m[INGRESO ESTACION]\u001b[0m ha ingresado un auto a E1 id: -> 38 2019-08-01 16:05:00\n",
      "\u001b[91m[LLEGADA]\u001b[0m ha llegado un auto id: 53 2019-08-01 16:06:00\n",
      "\u001b[91m[LLEGADA]\u001b[0m ha llegado un auto id: 54 2019-08-01 16:09:00\n",
      "\u001b[91m[LLEGADA]\u001b[0m ha llegado un auto id: 55 2019-08-01 16:16:00\n",
      "[COLA LLENA!!!] Se ha llenado la cola de espera para el taller\n",
      "[RETIRA] Se ha desocupado la Estacion, abandona el auto id -> 38 2019-08-01 16:17:00\n",
      "\u001b[92m[INGRESO ESTACION]\u001b[0m ha ingresado un auto a E1 id: -> 39 2019-08-01 16:17:00\n",
      "[RETIRA] Se ha desocupado la Estacion, abandona el auto id -> 39 2019-08-01 16:27:00\n",
      "\u001b[92m[INGRESO ESTACION]\u001b[0m ha ingresado un auto a E1 id: -> 41 2019-08-01 16:27:00\n",
      "[RETIRA] Se ha desocupado la Estacion, abandona el auto id -> 41 2019-08-01 16:40:00\n",
      "\u001b[92m[INGRESO ESTACION]\u001b[0m ha ingresado un auto a E1 id: -> 43 2019-08-01 16:40:00\n",
      "\u001b[91m[LLEGADA]\u001b[0m ha llegado un auto id: 56 2019-08-01 16:47:00\n",
      "[RETIRA] Se ha desocupado la Estacion, abandona el auto id -> 43 2019-08-01 16:54:00\n",
      "\u001b[92m[INGRESO ESTACION]\u001b[0m ha ingresado un auto a E1 id: -> 46 2019-08-01 16:54:00\n",
      "La cantidad de autos que llegaron al taller 49\n",
      "La cantidad de autos que se aburrieron de esperar 10\n",
      "La cantidad de autos que abandondan el taller 38\n",
      "\n",
      "Successful DES simulation. Time excecution: 52.78268218040466\n"
     ]
    }
   ],
   "source": [
    "new_taller = Taller(8,10,10)\n",
    "inicio = tm.time()\n",
    "new_taller.run()\n",
    "new_taller.show()\n",
    "final = tm.time()\n",
    "print()\n",
    "print(f\"Successful DES simulation. Time excecution: {final - inicio}\")"
   ]
  },
  {
   "cell_type": "code",
   "execution_count": null,
   "metadata": {},
   "outputs": [],
   "source": []
  }
 ],
 "metadata": {
  "kernelspec": {
   "display_name": "py36-test",
   "language": "python",
   "name": "py36-test"
  },
  "language_info": {
   "codemirror_mode": {
    "name": "ipython",
    "version": 3
   },
   "file_extension": ".py",
   "mimetype": "text/x-python",
   "name": "python",
   "nbconvert_exporter": "python",
   "pygments_lexer": "ipython3",
   "version": "3.8.8"
  }
 },
 "nbformat": 4,
 "nbformat_minor": 4
}
